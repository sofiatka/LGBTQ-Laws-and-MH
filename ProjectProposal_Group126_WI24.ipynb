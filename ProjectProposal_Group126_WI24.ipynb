{
 "cells": [
  {
   "cell_type": "markdown",
   "metadata": {},
   "source": [
    "# COGS 108 - Project Proposal"
   ]
  },
  {
   "cell_type": "markdown",
   "metadata": {},
   "source": [
    "# Names\n",
    "\n",
    "- Erik Glesne\n",
    "- Kailey Wen\n",
    "- Sofia Tkachenko\n",
    "- Taerim Choi\n",
    "- Wasp"
   ]
  },
  {
   "cell_type": "markdown",
   "metadata": {},
   "source": [
    "# Research Question"
   ]
  },
  {
   "cell_type": "markdown",
   "metadata": {},
   "source": [
    "\n",
    "How do variations in LGBT rights laws across US states impact the mental health of LGBT individuals within each state? Additionally, is there a differential effect on mental health outcomes across age groups and other demographics?\n",
    "\n"
   ]
  },
  {
   "cell_type": "markdown",
   "metadata": {},
   "source": [
    "## Background and Prior Work"
   ]
  },
  {
   "cell_type": "markdown",
   "metadata": {},
   "source": [
    "Throughout American history, communities such as the LGBTQ+ community have struggled to advocate for themselves in the midst of challenges from the government, both nationally and on a state-by-state basis. Recently, anti-LGBTQ laws have had a resurgence throughout the country, and this led our group to wonder about the potential affects this has on the mental health of individuals in states especially affected by these laws. \n",
    "\n",
    "Charities such as the Trevor Project, which is commited to helping LGBTQ youth in the midst of crises, have studied negative impacts anti LGBTQ legislation can have on LGBT youth. <a name=\"cite_ref-1\"></a>[<sup>1</sup>](#cite_note-1) This is a good starting point, as it illustrates what the impact of these laws can look like on youth, an especially vernerable population. \n",
    "\n",
    "Furthermore, certain human rights groups, such as the ACLU <a name=\"cite_ref-2\"></a>[<sup>2</sup>](#cite_note-2), understand the importance of making congressional bills that affect human rights available to the public, which will help us in our analysis, as we are able to see which states have put the most effort into restricting LGBTQ rights. \n",
    "\n",
    "\n",
    "1. <a name=\"cite_note-1\"></a> [^](#cite_ref-1) Sylvester, E. (2023, September 22). New poll emphasizes negative impacts of Anti-LGBTQ policies on LGBTQ youth. The Trevor Project. https://www.thetrevorproject.org/blog/new-poll-emphasizes-negative-impacts-of-anti-lgbtq-policies-on-lgbtq-youth/\n",
    "\n",
    "2. <a name=\"cite_note-2\"></a> [^](#cite_ref-2) Mapping attacks on LGBTQ rights in U.S. state legislatures in 2024 | American Civil Liberties Union. (2024, February 9). American Civil Liberties Union. https://www.aclu.org/legislative-attacks-on-lgbtq-rights-2024?impact=#overview"
   ]
  },
  {
   "cell_type": "markdown",
   "metadata": {},
   "source": [
    "# Hypothesis\n"
   ]
  },
  {
   "cell_type": "markdown",
   "metadata": {},
   "source": [
    "\n",
    "We hypothesize that having increased anti-LGBTQ legislation will correlate positively with worsened mental health among LGBTQ youth. Specifically, we hypothesize that aspects like suicide, depression, and physical unwellness (e.g. self-harm) will become more prevalent as more anti-LGBTQ laws are passed in certain states.\n",
    "\n",
    "Numerous surveys have suggested that mental health in the LGBTQ community is worse than among their non-LGBTQ peers, with as many as two-thirds of the respondants citing anti-LGBTQ laws as a factor for worsening mental well-being <a name=\"cite_ref-3\"></a>[<sup>3</sup>](#cite_note-3). As a result, we believe that there may be a quantifiable trend between worsening LGBTQ mental health and proliferation of such laws.\n",
    "\n",
    "3. <a name=\"cite_note-3\"></a> [^](#cite_ref-3) 2023 U.S. National Survey on the Mental Health of LGBTQ Young People. (2023). The Trevor Project. https://www.thetrevorproject.org/survey-2023/\n"
   ]
  },
  {
   "cell_type": "markdown",
   "metadata": {},
   "source": [
    "# Data"
   ]
  },
  {
   "cell_type": "markdown",
   "metadata": {},
   "source": [
    "Our research question allows our ideal dataset to be flexible, but some potential variables to consider are:\n",
    "- State\n",
    "- LGBT rights laws\n",
    "- Mental health outcomes\n",
    "- Age\n",
    "- Demographic factors\n",
    "- Access to mental health services\n",
    "- Social support\n",
    "\n",
    "It would be ideal to have at least several hundred observations per state, but this may vary depending on available data and population per state.\n",
    "\n",
    "As with most data science projects, a various collection of different forms would be optimal. This may include surveys administered online, via telephone, or in-person, and targeted sampling strategies with quantifiable metrics of mental health. Collaboration with LGBT advocacy organizations, mental health agencies, and research institutions would add to the reliability of the dataset.\n",
    "\n",
    "Regarding the organization, I would prefer it in a structured format, such as comma-separated values or a spreadsheet where the data is organized by state, with relevant demographic information included."
   ]
  },
  {
   "cell_type": "markdown",
   "metadata": {},
   "source": [
    "# Ethics & Privacy"
   ]
  },
  {
   "cell_type": "markdown",
   "metadata": {},
   "source": [
    "- Thoughtful discussion of ethical concerns included\n",
    "- Ethical concerns consider the whole data science process (question asked, data collected, data being used, the bias in data, analysis, post-analysis, etc.)\n",
    "- How your group handled bias/ethical concerns clearly described\n",
    "\n",
    "Acknowledge and address any ethics & privacy related issues of your question(s), proposed dataset(s), and/or analyses. Use the information provided in lecture to guide your group discussion and thinking. If you need further guidance, check out [Deon's Ethics Checklist](http://deon.drivendata.org/#data-science-ethics-checklist). In particular:\n",
    "\n",
    "- Are there any biases/privacy/terms of use issues with the data you propsed?\n",
    "- Are there potential biases in your dataset(s), in terms of who it composes, and how it was collected, that may be problematic in terms of it allowing for equitable analysis? (For example, does your data exclude particular populations, or is it likely to reflect particular human biases in a way that could be a problem?)\n",
    "- How will you set out to detect these specific biases before, during, and after/when communicating your analysis?\n",
    "- Are there any other issues related to your topic area, data, and/or analyses that are potentially problematic in terms of data privacy and equitable impact?\n",
    "- How will you handle issues you identified?"
   ]
  },
  {
   "cell_type": "markdown",
   "metadata": {},
   "source": [
    "# Team Expectations "
   ]
  },
  {
   "cell_type": "markdown",
   "metadata": {},
   "source": [
    "\n",
    "Read over the [COGS108 Team Policies](https://github.com/COGS108/Projects/blob/master/COGS108_TeamPolicies.md) individually. Then, include your group’s expectations of one another for successful completion of your COGS108 project below. Discuss and agree on what all of your expectations are. Discuss how your team will communicate throughout the quarter and consider how you will communicate respectfully should conflicts arise. By including each member’s name above and by adding their name to the submission, you are indicating that you have read the COGS108 Team Policies, accept your team’s expectations below, and have every intention to fulfill them. These expectations are for your team’s use and benefit — they won’t be graded for their details.\n",
    "\n",
    "* *Team Expectation 1*\n",
    "* *Team Expectation 2*\n",
    "* *Team Expecation 3*\n",
    "* ..."
   ]
  },
  {
   "cell_type": "markdown",
   "metadata": {},
   "source": [
    "# Project Timeline Proposal"
   ]
  },
  {
   "cell_type": "markdown",
   "metadata": {},
   "source": [
    "Specify your team's specific project timeline. An example timeline has been provided. Changes the dates, times, names, and details to fit your group's plan.\n",
    "\n",
    "If you think you will need any special resources or training outside what we have covered in COGS 108 to solve your problem, then your proposal should state these clearly. For example, if you have selected a problem that involves implementing multiple neural networks, please state this so we can make sure you know what you’re doing and so we can point you to resources you will need to implement your project. Note that you are not required to use outside methods.\n",
    "\n",
    "\n",
    "\n",
    "| Meeting Date  | Meeting Time| Completed Before Meeting  | Discuss at Meeting |\n",
    "|---|---|---|---|\n",
    "| 2/3  | 12 PM | NA  | Delegate roles for previous project review; Complete project review | \n",
    "| 2/8  | 6 PM  | Find potential topics and datasets for project  | Narrow down the topic and find more data on this topic; Delegate roles in Project Proposal | \n",
    "| 2/17  |  12 PM | Prepare sources for data on topic  | Discuss ways to clean data and turn it into tidy format; Discuss final project roles; Assign 1 or 2 people to prepare data for analysis | \n",
    "| 2/22  |  6 PM | Clean and prepare data in tidy format  | Review cleaned data and prepare Checkpoint #1 on data; Discuss analysis strategies and packages to be used | \n",
    "| 3/2  | 12 PM | Perform individual EDA on collected data | Discuss findings from EDA; Finalize final project roles | \n",
    "| 3/9  | 12 PM | Prepare Checkpoint #2 | Discuss/Finish Checkpoint #2; Revisit analysis strategies for final project | \n",
    "| 3/14 | 6 PM | Work on assigned final project role | Discuss current work with team; Continue analyis; Check for quality, accuracy, and equal work distribution | \n",
    "| 3/17 | 12 PM | Fix any issues found from previous meeting | Finish analysis; Start on results and conclusion/discussion section | \n",
    "| 3/20 | < 11:59 PM | Final check of project by each group member | Submit project and group survey after all members approve | \n"
   ]
  }
 ],
 "metadata": {
  "kernelspec": {
   "display_name": "Python 3 (ipykernel)",
   "language": "python",
   "name": "python3"
  },
  "language_info": {
   "codemirror_mode": {
    "name": "ipython",
    "version": 3
   },
   "file_extension": ".py",
   "mimetype": "text/x-python",
   "name": "python",
   "nbconvert_exporter": "python",
   "pygments_lexer": "ipython3",
   "version": "3.10.9"
  }
 },
 "nbformat": 4,
 "nbformat_minor": 2
}
