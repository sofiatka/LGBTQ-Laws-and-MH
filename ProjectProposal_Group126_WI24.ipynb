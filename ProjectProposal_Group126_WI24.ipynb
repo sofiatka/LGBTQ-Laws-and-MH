{
 "cells": [
  {
   "cell_type": "markdown",
   "metadata": {},
   "source": [
    "# COGS 108 - Project Proposal"
   ]
  },
  {
   "cell_type": "markdown",
   "metadata": {},
   "source": [
    "# Names\n",
    "\n",
    "- Erik Glesne\n",
    "- Kailey Wen\n",
    "- Sofia Tkachenko\n",
    "- Taerim Choi\n",
    "- Wasp"
   ]
  },
  {
   "cell_type": "markdown",
   "metadata": {},
   "source": [
    "# Research Question"
   ]
  },
  {
   "cell_type": "markdown",
   "metadata": {},
   "source": [
    "\n",
    "How do variations in LGBT rights laws across US states impact the mental health of LGBT individuals within each state? Additionally, is there a differential effect on mental health outcomes across age groups and other demographics, such as socioeconomic status, race, and religion.?\n",
    "\n"
   ]
  },
  {
   "cell_type": "markdown",
   "metadata": {},
   "source": [
    "## Background and Prior Work"
   ]
  },
  {
   "cell_type": "markdown",
   "metadata": {},
   "source": [
    "Throughout American history, communities such as the LGBTQ+ community have struggled to advocate for themselves in the midst of challenges from the government, both nationally and on a state-by-state basis. Recently, anti-LGBTQ laws have had a resurgence throughout the country. These laws come in many different forms, from barriers to accurate ID information to restricting school curriculum. This led our group to wonder about the potential affects this has on the mental health of individuals in states especially affected by these laws. \n",
    "\n",
    "Charities such as the Trevor Project, which is commited to helping LGBTQ youth in the midst of crises, have studied negative impacts anti LGBTQ legislation can have on LGBT youth. <a name=\"cite_ref-1\"></a>[<sup>1</sup>](#cite_note-1) This is a good starting point, as it illustrates what the impact of these laws can look like on youth, an especially vernerable population. \n",
    "\n",
    "Furthermore, certain human rights groups, such as the ACLU <a name=\"cite_ref-2\"></a>[<sup>2</sup>](#cite_note-2), understand the importance of making congressional bills that affect human rights available to the public, which will help us in our analysis, as we are able to see which states have put the most effort into restricting LGBTQ rights. \n",
    "\n",
    "\n",
    "1. <a name=\"cite_note-1\"></a> [^](#cite_ref-1) Sylvester, E. (2023, September 22). New poll emphasizes negative impacts of Anti-LGBTQ policies on LGBTQ youth. The Trevor Project. https://www.thetrevorproject.org/blog/new-poll-emphasizes-negative-impacts-of-anti-lgbtq-policies-on-lgbtq-youth/\n",
    "\n",
    "2. <a name=\"cite_note-2\"></a> [^](#cite_ref-2) Mapping attacks on LGBTQ rights in U.S. state legislatures in 2024 | American Civil Liberties Union. (2024, February 9). American Civil Liberties Union. https://www.aclu.org/legislative-attacks-on-lgbtq-rights-2024?impact=#overview"
   ]
  },
  {
   "cell_type": "markdown",
   "metadata": {},
   "source": [
    "# Hypothesis\n"
   ]
  },
  {
   "cell_type": "markdown",
   "metadata": {},
   "source": [
    "\n",
    "We hypothesize that having increased anti-LGBTQ legislation will correlate positively with worsened mental health among LGBTQ youth. Specifically, we hypothesize that aspects like suicide, depression, and physical unwellness (e.g. self-harm) will become more prevalent as more anti-LGBTQ laws are passed in certain states.\n",
    "\n",
    "Numerous surveys have suggested that mental health in the LGBTQ community is worse than among their non-LGBTQ peers, with as many as two-thirds of the respondants citing anti-LGBTQ laws as a factor for worsening mental well-being <a name=\"cite_ref-3\"></a>[<sup>3</sup>](#cite_note-3). As a result, we believe that there may be a quantifiable trend between worsening LGBTQ mental health and proliferation of such laws.\n",
    "\n",
    "3. <a name=\"cite_note-3\"></a> [^](#cite_ref-3) 2023 U.S. National Survey on the Mental Health of LGBTQ Young People. (2023). The Trevor Project. https://www.thetrevorproject.org/survey-2023/\n"
   ]
  },
  {
   "cell_type": "markdown",
   "metadata": {},
   "source": [
    "# Data"
   ]
  },
  {
  "cell_type": "markdown",
  "metadata": {},
  "source": [
    "Our research question allows our ideal dataset to be flexible, but some potential variables to consider are:\n",
    "- State\n",
    "- LGBT rights laws\n",
    "- Mental health outcomes\n",
    "- Age\n",
    "- Demographic factors\n",
    "- Access to mental health services\n",
    "- Social support\n",
    "\n",
    "It would be ideal to have at least several hundred observations per state, but this may vary depending on available data and population per state.\n",
    "\n",
    "As with most data science projects, a various collection of different forms would be optimal. This may include surveys administered online, via telephone, or in-person, and targeted sampling strategies with quantifiable metrics of mental health. \n",
    "One potential avenue of examining the dataset could involve devising our own metric based on the ordinal data we gather. For instance, we could create a composite score that considers various mental health indicators, such as depression scores, anxiety levels, and self-reported well-being. This composite score could then be used to quantify mental health outcomes across different demographic groups and states. \n",
    "Another approach entails assessing the prevalence rates of various mental health disorders and their correlation with the stringency of enacted legislation, thus providing insight into its impact on the well-being of the LGBT community.\n",
    "Data that collaborates with LGBT advocacy organizations, mental health agencies, and research institutions would enhance the reliability of the dataset.\n",
    "\n",
    "Regarding organization, a structured format like comma-separated values or a spreadsheet, with data organized by state and including relevant demographic information, would be preferable."
  ]
  },
  {
   "cell_type": "markdown",
   "metadata": {},
   "source": [
    "# Ethics & Privacy"
   ]
  },
  {
   "cell_type": "markdown",
   "metadata": {},
   "source": [
    "When conducting research that is related to sensitive topics like mental health, it is important to be vigilant about how we can remain ethical while also being effective in our analysis. There are several ethical and privacy related issues with the research that we will be conducting and the data that we will be working with in our study. Our question was carefully formulated to avoid any bias and discrimination against any one group. While the nature of our question does investigate into what can lead to or influence mental health issues, our analysis and conclusions will focus primarily on the impact of legislation on these issues rather than specifying a targeted demographic of individuals. Since the scope of our project focuses on anti-LGBTQ laws and its impact on the LGBTQ community, it is imperative that we understand any potential biases that may come from potential data sources or related research.\n",
    "\n",
    "The main concern with the data collection process is ensuring that the data gathered is accurate in reflecting the population we are studying while also being ethically sourced. In other words, the data that we use needs to be obtained consensually and confidentially. To conduct this research one of our main sources of data comes from mental health data across the United States. It is important to recognize the disparity in the data that we will be analyzing from; certain demographics within the LGBTQ community might not be represented due to social stigmas or fear of discrimination. A very likely candidate for our data source is the Substance Abuse and Mental Health Data Archive (SAMHSA). But one problem is that the data collected comes from mental health treatment facilities in the U.S. This data is thus insufficient in representing individuals with mental issues who are unable to or unwilling to receive treatment. Additionally, individuals who feel shame for having mental illnesses might be less likely to respond in surveys. To combat these biases and ensure a reflective dataset, it is important to note any missing data and to be especially careful in understanding the origins of data sources we use and how the data was collected.\n"
   ]
  },
  {
   "cell_type": "markdown",
   "metadata": {},
   "source": [
    "# Team Expectations "
   ]
  },
  {
   "cell_type": "markdown",
   "metadata": {},
   "source": [
    "\n",
    "Read over the [COGS108 Team Policies](https://github.com/COGS108/Projects/blob/master/COGS108_TeamPolicies.md) individually. Then, include your group’s expectations of one another for successful completion of your COGS108 project below. Discuss and agree on what all of your expectations are. Discuss how your team will communicate throughout the quarter and consider how you will communicate respectfully should conflicts arise. By including each member’s name above and by adding their name to the submission, you are indicating that you have read the COGS108 Team Policies, accept your team’s expectations below, and have every intention to fulfill them. These expectations are for your team’s use and benefit — they won’t be graded for their details.\n",
    "\n",
    "* *Team Expectation 1*\n",
    "* *Team Expectation 2*\n",
    "* *Team Expecation 3*\n",
    "* ..."
   ]
  },
  {
   "cell_type": "markdown",
   "metadata": {},
   "source": [
    "# Project Timeline Proposal"
   ]
  },
  {
   "cell_type": "markdown",
   "metadata": {},
   "source": [
    "Specify your team's specific project timeline. An example timeline has been provided. Changes the dates, times, names, and details to fit your group's plan.\n",
    "\n",
    "If you think you will need any special resources or training outside what we have covered in COGS 108 to solve your problem, then your proposal should state these clearly. For example, if you have selected a problem that involves implementing multiple neural networks, please state this so we can make sure you know what you’re doing and so we can point you to resources you will need to implement your project. Note that you are not required to use outside methods.\n",
    "\n",
    "\n",
    "\n",
    "| Meeting Date  | Meeting Time| Completed Before Meeting  | Discuss at Meeting |\n",
    "|---|---|---|---|\n",
    "| 2/3  | 12 PM | NA  | Delegate roles for previous project review; Complete project review | \n",
    "| 2/8  | 6 PM  | Find potential topics and datasets for project  | Narrow down the topic and find more data on this topic; Delegate roles in Project Proposal | \n",
    "| 2/17  |  12 PM | Prepare sources for data on topic  | Discuss ways to clean data and turn it into tidy format; Discuss final project roles; Assign 1 or 2 people to prepare data for analysis | \n",
    "| 2/22  |  6 PM | Clean and prepare data in tidy format  | Review cleaned data and prepare Checkpoint #1 on data; Discuss analysis strategies and packages to be used | \n",
    "| 3/2  | 12 PM | Perform individual EDA on collected data | Discuss findings from EDA; Finalize final project roles | \n",
    "| 3/9  | 12 PM | Prepare Checkpoint #2 | Discuss/Finish Checkpoint #2; Revisit analysis strategies for final project | \n",
    "| 3/14 | 6 PM | Work on assigned final project role | Discuss current work with team; Continue analyis; Check for quality, accuracy, and equal work distribution | \n",
    "| 3/17 | 12 PM | Fix any issues found from previous meeting | Finish analysis; Start on results and conclusion/discussion section | \n",
    "| 3/20 | < 11:59 PM | Final check of project by each group member | Submit project and group survey after all members approve | \n"
   ]
  }
 ],
 "metadata": {
  "kernelspec": {
   "display_name": "Python 3 (ipykernel)",
   "language": "python",
   "name": "python3"
  },
  "language_info": {
   "codemirror_mode": {
    "name": "ipython",
    "version": 3
   },
   "file_extension": ".py",
   "mimetype": "text/x-python",
   "name": "python",
   "nbconvert_exporter": "python",
   "pygments_lexer": "ipython3",
   "version": "3.10.9"
  }
 },
 "nbformat": 4,
 "nbformat_minor": 2
}
